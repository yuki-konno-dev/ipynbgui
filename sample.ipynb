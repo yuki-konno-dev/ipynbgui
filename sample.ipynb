{
 "cells": [
  {
   "cell_type": "code",
   "execution_count": 2,
   "metadata": {},
   "outputs": [
    {
     "data": {
      "application/vnd.jupyter.widget-view+json": {
       "model_id": "0490114fa33042cd96c692ed1b7ba4b3",
       "version_major": 2,
       "version_minor": 0
      },
      "text/plain": [
       "HBox(children=(VBox(children=(Label(value='label_1'), Label(value='label_2'), Label(value='label_3'))), VBox(c…"
      ]
     },
     "metadata": {},
     "output_type": "display_data"
    }
   ],
   "source": [
    "import ipywidgets as widgets\n",
    "from ipynbgui import Palette\n",
    "from pprint import pprint\n",
    "\n",
    "palette = Palette(col=2, row=3)\n",
    "a = widgets.Label('label_1')\n",
    "b = widgets.Label('label_2')\n",
    "c = widgets.Label('label_3')\n",
    "d = widgets.Text()\n",
    "e = widgets.Text()\n",
    "f = widgets.Text()\n",
    "palette.add_widget(0,0,a)\n",
    "palette.add_widget(0,1,b)\n",
    "palette.add_widget(0,2,c)\n",
    "palette.add_widget(1,0,d)\n",
    "palette.add_widget(1,1,e)\n",
    "palette.add_widget(1,2,f)\n",
    "\n",
    "palette.build()\n",
    "\n",
    "display(palette.show())"
   ]
  }
 ],
 "metadata": {
  "kernelspec": {
   "display_name": "Python 3",
   "language": "python",
   "name": "python3"
  },
  "language_info": {
   "codemirror_mode": {
    "name": "ipython",
    "version": 3
   },
   "file_extension": ".py",
   "mimetype": "text/x-python",
   "name": "python",
   "nbconvert_exporter": "python",
   "pygments_lexer": "ipython3",
   "version": "3.7.3"
  }
 },
 "nbformat": 4,
 "nbformat_minor": 2
}
